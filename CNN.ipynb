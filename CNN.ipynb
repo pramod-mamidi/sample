{
  "nbformat": 4,
  "nbformat_minor": 0,
  "metadata": {
    "colab": {
      "name": "CNN.ipynb",
      "provenance": [],
      "authorship_tag": "ABX9TyNG6OLMVoSRczGsh7A0BfP2",
      "include_colab_link": true
    },
    "kernelspec": {
      "name": "python3",
      "display_name": "Python 3"
    }
  },
  "cells": [
    {
      "cell_type": "markdown",
      "metadata": {
        "id": "view-in-github",
        "colab_type": "text"
      },
      "source": [
        "<a href=\"https://colab.research.google.com/github/pramod-mamidi/sample/blob/master/CNN.ipynb\" target=\"_parent\"><img src=\"https://colab.research.google.com/assets/colab-badge.svg\" alt=\"Open In Colab\"/></a>"
      ]
    },
    {
      "cell_type": "code",
      "metadata": {
        "id": "XxghL1gZaWmd",
        "colab_type": "code",
        "colab": {}
      },
      "source": [
        "%tensorflow_version 2.x"
      ],
      "execution_count": 0,
      "outputs": []
    },
    {
      "cell_type": "code",
      "metadata": {
        "id": "8KEaLKyMavmb",
        "colab_type": "code",
        "colab": {}
      },
      "source": [
        "import tensorflow as tf\n",
        "from tensorflow import keras\n",
        "import numpy as np\n",
        "import matplotlib.pyplot as plt"
      ],
      "execution_count": 0,
      "outputs": []
    },
    {
      "cell_type": "code",
      "metadata": {
        "id": "W89iQcCPbYXu",
        "colab_type": "code",
        "colab": {}
      },
      "source": [
        "data=keras.datasets.cifar10\n",
        "(train_x,train_y),(test_x,test_y)=data.load_data()\n",
        "train_x,test_x=train_x/255.0,test_x/255.0\n",
        "names=['aeroplane','automobile','bird','cat','deer','dog','frog','horse','ship','truck']"
      ],
      "execution_count": 0,
      "outputs": []
    },
    {
      "cell_type": "code",
      "metadata": {
        "id": "52YVEwaLcoVq",
        "colab_type": "code",
        "colab": {}
      },
      "source": [
        "model=keras.models.Sequential()\n",
        "model.add(keras.layers.Conv2D(32,(3,3),activation='relu',input_shape=(32,32,3)))\n",
        "model.add(keras.layers.MaxPooling2D(pool_size=(2,2)))\n",
        "model.add(keras.layers.Conv2D(64,(3,3),activation='relu'))\n",
        "model.add(keras.layers.MaxPooling2D(pool_size=(2,2)))\n",
        "model.add(keras.layers.Conv2D(128,(3,3),activation='relu'))\n",
        "model.add(keras.layers.MaxPooling2D(pool_size=(2,2)))"
      ],
      "execution_count": 0,
      "outputs": []
    },
    {
      "cell_type": "code",
      "metadata": {
        "id": "AFDHWPxdgSe9",
        "colab_type": "code",
        "colab": {}
      },
      "source": [
        "model.add(keras.layers.Flatten())\n",
        "model.add(keras.layers.Dense(64,activation='relu'))\n",
        "model.add(keras.layers.Dense(32,activation='relu'))\n",
        "model.add(keras.layers.Dense(10,activation='softmax'))"
      ],
      "execution_count": 0,
      "outputs": []
    },
    {
      "cell_type": "code",
      "metadata": {
        "id": "srm68WGghUH4",
        "colab_type": "code",
        "outputId": "58178808-035e-4784-fa9d-9282e3ccd19a",
        "colab": {
          "base_uri": "https://localhost:8080/",
          "height": 487
        }
      },
      "source": [
        "model.summary()"
      ],
      "execution_count": 6,
      "outputs": [
        {
          "output_type": "stream",
          "text": [
            "Model: \"sequential\"\n",
            "_________________________________________________________________\n",
            "Layer (type)                 Output Shape              Param #   \n",
            "=================================================================\n",
            "conv2d (Conv2D)              (None, 30, 30, 32)        896       \n",
            "_________________________________________________________________\n",
            "max_pooling2d (MaxPooling2D) (None, 15, 15, 32)        0         \n",
            "_________________________________________________________________\n",
            "conv2d_1 (Conv2D)            (None, 13, 13, 64)        18496     \n",
            "_________________________________________________________________\n",
            "max_pooling2d_1 (MaxPooling2 (None, 6, 6, 64)          0         \n",
            "_________________________________________________________________\n",
            "conv2d_2 (Conv2D)            (None, 4, 4, 128)         73856     \n",
            "_________________________________________________________________\n",
            "max_pooling2d_2 (MaxPooling2 (None, 2, 2, 128)         0         \n",
            "_________________________________________________________________\n",
            "flatten (Flatten)            (None, 512)               0         \n",
            "_________________________________________________________________\n",
            "dense (Dense)                (None, 64)                32832     \n",
            "_________________________________________________________________\n",
            "dense_1 (Dense)              (None, 32)                2080      \n",
            "_________________________________________________________________\n",
            "dense_2 (Dense)              (None, 10)                330       \n",
            "=================================================================\n",
            "Total params: 128,490\n",
            "Trainable params: 128,490\n",
            "Non-trainable params: 0\n",
            "_________________________________________________________________\n"
          ],
          "name": "stdout"
        }
      ]
    },
    {
      "cell_type": "code",
      "metadata": {
        "id": "Pl85oW4chvvT",
        "colab_type": "code",
        "colab": {}
      },
      "source": [
        "model.compile(optimizer='adam',loss='SparseCategoricalCrossentropy',metrics=['accuracy'])"
      ],
      "execution_count": 0,
      "outputs": []
    },
    {
      "cell_type": "code",
      "metadata": {
        "id": "JV_yPC83lRnh",
        "colab_type": "code",
        "colab": {
          "base_uri": "https://localhost:8080/",
          "height": 605
        },
        "outputId": "c98053b8-6538-452a-df42-ff620d98e6d6"
      },
      "source": [
        "model.fit(train_x,train_y,epochs=17,validation_data=(test_x,test_y))"
      ],
      "execution_count": 8,
      "outputs": [
        {
          "output_type": "stream",
          "text": [
            "Epoch 1/17\n",
            "1563/1563 [==============================] - 71s 45ms/step - loss: 1.5918 - accuracy: 0.4110 - val_loss: 1.3393 - val_accuracy: 0.5264\n",
            "Epoch 2/17\n",
            "1563/1563 [==============================] - 74s 47ms/step - loss: 1.1833 - accuracy: 0.5767 - val_loss: 1.0975 - val_accuracy: 0.6110\n",
            "Epoch 3/17\n",
            "1563/1563 [==============================] - 69s 44ms/step - loss: 1.0090 - accuracy: 0.6459 - val_loss: 1.0248 - val_accuracy: 0.6399\n",
            "Epoch 4/17\n",
            "1563/1563 [==============================] - 68s 43ms/step - loss: 0.8993 - accuracy: 0.6833 - val_loss: 0.9343 - val_accuracy: 0.6748\n",
            "Epoch 5/17\n",
            "1563/1563 [==============================] - 67s 43ms/step - loss: 0.8203 - accuracy: 0.7146 - val_loss: 0.9041 - val_accuracy: 0.6836\n",
            "Epoch 6/17\n",
            "1563/1563 [==============================] - 67s 43ms/step - loss: 0.7540 - accuracy: 0.7369 - val_loss: 0.9044 - val_accuracy: 0.6910\n",
            "Epoch 7/17\n",
            "1563/1563 [==============================] - 66s 42ms/step - loss: 0.7017 - accuracy: 0.7560 - val_loss: 0.8852 - val_accuracy: 0.6961\n",
            "Epoch 8/17\n",
            "1563/1563 [==============================] - 66s 42ms/step - loss: 0.6533 - accuracy: 0.7734 - val_loss: 0.8616 - val_accuracy: 0.7068\n",
            "Epoch 9/17\n",
            "1563/1563 [==============================] - 67s 43ms/step - loss: 0.6122 - accuracy: 0.7867 - val_loss: 0.8717 - val_accuracy: 0.7063\n",
            "Epoch 10/17\n",
            "1563/1563 [==============================] - 67s 43ms/step - loss: 0.5763 - accuracy: 0.7974 - val_loss: 0.8868 - val_accuracy: 0.7127\n",
            "Epoch 11/17\n",
            "1563/1563 [==============================] - 70s 45ms/step - loss: 0.5390 - accuracy: 0.8116 - val_loss: 0.9008 - val_accuracy: 0.7106\n",
            "Epoch 12/17\n",
            "1563/1563 [==============================] - 66s 42ms/step - loss: 0.5090 - accuracy: 0.8209 - val_loss: 0.8983 - val_accuracy: 0.7147\n",
            "Epoch 13/17\n",
            "1563/1563 [==============================] - 67s 43ms/step - loss: 0.4759 - accuracy: 0.8322 - val_loss: 0.9531 - val_accuracy: 0.7098\n",
            "Epoch 14/17\n",
            "1563/1563 [==============================] - 68s 43ms/step - loss: 0.4500 - accuracy: 0.8412 - val_loss: 0.9466 - val_accuracy: 0.7150\n",
            "Epoch 15/17\n",
            "1563/1563 [==============================] - 67s 43ms/step - loss: 0.4247 - accuracy: 0.8505 - val_loss: 1.0163 - val_accuracy: 0.7061\n",
            "Epoch 16/17\n",
            "1563/1563 [==============================] - 67s 43ms/step - loss: 0.3996 - accuracy: 0.8587 - val_loss: 0.9929 - val_accuracy: 0.7125\n",
            "Epoch 17/17\n",
            "1563/1563 [==============================] - 67s 43ms/step - loss: 0.3748 - accuracy: 0.8681 - val_loss: 1.0905 - val_accuracy: 0.7025\n"
          ],
          "name": "stdout"
        },
        {
          "output_type": "execute_result",
          "data": {
            "text/plain": [
              "<tensorflow.python.keras.callbacks.History at 0x7f19769cc0b8>"
            ]
          },
          "metadata": {
            "tags": []
          },
          "execution_count": 8
        }
      ]
    },
    {
      "cell_type": "code",
      "metadata": {
        "id": "Tr-Qec25rLt7",
        "colab_type": "code",
        "colab": {
          "base_uri": "https://localhost:8080/",
          "height": 50
        },
        "outputId": "4967ff18-28d5-43ff-efee-0ba358e29486"
      },
      "source": [
        "model.evaluate(test_x,test_y)"
      ],
      "execution_count": 9,
      "outputs": [
        {
          "output_type": "stream",
          "text": [
            "313/313 [==============================] - 4s 13ms/step - loss: 1.0905 - accuracy: 0.7025\n"
          ],
          "name": "stdout"
        },
        {
          "output_type": "execute_result",
          "data": {
            "text/plain": [
              "[1.0904663801193237, 0.7024999856948853]"
            ]
          },
          "metadata": {
            "tags": []
          },
          "execution_count": 9
        }
      ]
    },
    {
      "cell_type": "code",
      "metadata": {
        "id": "gKilj8WAuNbB",
        "colab_type": "code",
        "colab": {}
      },
      "source": [
        "prediction=model.predict(test_x)"
      ],
      "execution_count": 0,
      "outputs": []
    },
    {
      "cell_type": "code",
      "metadata": {
        "id": "4w4cUbwcrTUt",
        "colab_type": "code",
        "colab": {
          "base_uri": "https://localhost:8080/",
          "height": 283
        },
        "outputId": "d27fc2c2-01e2-4ef1-ebf3-228157eab9fe"
      },
      "source": [
        "plt.imshow(test_x[25])\n",
        "plt.show()\n",
        "print(names[np.argmax(prediction[25])])"
      ],
      "execution_count": 12,
      "outputs": [
        {
          "output_type": "display_data",
          "data": {
            "image/png": "[encoded data removed]",
            "text/plain": [
              "<Figure size 432x288 with 1 Axes>"
            ]
          },
          "metadata": {
            "tags": [],
            "needs_background": "light"
          }
        },
        {
          "output_type": "stream",
          "text": [
            "bird\n"
          ],
          "name": "stdout"
        }
      ]
    }
  ]
}